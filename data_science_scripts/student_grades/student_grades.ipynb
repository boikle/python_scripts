{
 "cells": [
  {
   "cell_type": "markdown",
   "metadata": {},
   "source": [
    "# Student Grades Project\n",
    "\n",
    "**Description:** A sample project in which csv data is imported and descriptive statistics are generated. Note: The data used in this project is completely made up for the purpose of learning the pandas library."
   ]
  },
  {
   "cell_type": "code",
   "execution_count": 6,
   "metadata": {},
   "outputs": [],
   "source": [
    "# import libraries\n",
    "import pandas as pd\n",
    "import numpy as np"
   ]
  },
  {
   "cell_type": "code",
   "execution_count": 7,
   "metadata": {},
   "outputs": [
    {
     "name": "stdout",
     "output_type": "stream",
     "text": [
      "       name  grade\n",
      "0      alex     56\n",
      "1      bill     62\n",
      "2      andy     74\n",
      "3      jill     71\n",
      "4     janet     81\n",
      "5     kelly     83\n",
      "6      lacy     98\n",
      "7     billy     42\n",
      "8    andrew     18\n",
      "9      john     66\n",
      "10    james     71\n",
      "11  jessica     81\n",
      "12     mary     89\n",
      "13     beth     68\n",
      "14    benny     73\n",
      "15    peter     76\n",
      "16    grace     78\n",
      "17    katie     56\n",
      "18     reta     44\n",
      "19   meghan     31\n",
      "20     jack     75\n",
      "21   hudson     74\n",
      "22     jade     69\n",
      "23  alister     67\n",
      "24   connie     62\n",
      "25      leo     71\n",
      "26    louis     59\n",
      "27     burt     95\n",
      "28   archer     68\n"
     ]
    }
   ],
   "source": [
    "# import csv data\n",
    "student_grades = pd.read_csv('data/student_grades.csv')\n",
    "print(student_grades)"
   ]
  },
  {
   "cell_type": "markdown",
   "metadata": {},
   "source": [
    "## Descriptive Statistics"
   ]
  },
  {
   "cell_type": "code",
   "execution_count": 8,
   "metadata": {},
   "outputs": [
    {
     "name": "stdout",
     "output_type": "stream",
     "text": [
      "Sum:  1958\n",
      "\n",
      "Min:  18\n",
      "\n",
      "Max:  98\n",
      "\n",
      "Mean:  67.5172413793\n",
      "\n",
      "Median:  71.0\n",
      "\n",
      "Mode:  0    71\n",
      "dtype: int64\n",
      "\n",
      "Stadard Deviation:  17.4552912356\n"
     ]
    }
   ],
   "source": [
    "# Display various descriptive stats about the data\n",
    "print(\"Sum: \", student_grades['grade'].sum())\n",
    "print(\"\\nMin: \", student_grades['grade'].min())\n",
    "print(\"\\nMax: \", student_grades['grade'].max())\n",
    "print(\"\\nMean: \", student_grades['grade'].mean())\n",
    "print(\"\\nMedian: \", student_grades['grade'].median())\n",
    "print(\"\\nMode: \", student_grades['grade'].mode())\n",
    "print(\"\\nStadard Deviation: \", student_grades['grade'].std())"
   ]
  },
  {
   "cell_type": "markdown",
   "metadata": {},
   "source": [
    "## Histogram"
   ]
  },
  {
   "cell_type": "code",
   "execution_count": 9,
   "metadata": {},
   "outputs": [
    {
     "data": {
      "text/plain": [
       "<matplotlib.axes._subplots.AxesSubplot at 0x7febdc41b550>"
      ]
     },
     "execution_count": 9,
     "metadata": {},
     "output_type": "execute_result"
    },
    {
     "data": {
      "image/png": "[encoded data removed]",
      "text/plain": [
       "<matplotlib.figure.Figure at 0x7febdefa0f98>"
      ]
     },
     "metadata": {},
     "output_type": "display_data"
    }
   ],
   "source": [
    "student_grades.plot.hist(bins=7)"
   ]
  }
 ],
 "metadata": {
  "kernelspec": {
   "display_name": "Python 3",
   "language": "python",
   "name": "python3"
  },
  "language_info": {
   "codemirror_mode": {
    "name": "ipython",
    "version": 3
   },
   "file_extension": ".py",
   "mimetype": "text/x-python",
   "name": "python",
   "nbconvert_exporter": "python",
   "pygments_lexer": "ipython3",
   "version": "3.6.7"
  }
 },
 "nbformat": 4,
 "nbformat_minor": 2
}
