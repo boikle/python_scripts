{
 "cells": [
  {
   "cell_type": "markdown",
   "metadata": {},
   "source": [
    "# Canadian Energy Production Analysis:\n",
    "\n",
    "Data Source: Statistics Canada.  [Table  25-10-0015-01   Electric power generation, monthly generation by type of electricity](https://www150.statcan.gc.ca/t1/tbl1/en/tv.action?pid=2510001501)\n"
   ]
  },
  {
   "cell_type": "code",
   "execution_count": 18,
   "metadata": {},
   "outputs": [
    {
     "data": {
      "text/html": [
       "<div>\n",
       "<style scoped>\n",
       "    .dataframe tbody tr th:only-of-type {\n",
       "        vertical-align: middle;\n",
       "    }\n",
       "\n",
       "    .dataframe tbody tr th {\n",
       "        vertical-align: top;\n",
       "    }\n",
       "\n",
       "    .dataframe thead th {\n",
       "        text-align: right;\n",
       "    }\n",
       "</style>\n",
       "<table border=\"1\" class=\"dataframe\">\n",
       "  <thead>\n",
       "    <tr style=\"text-align: right;\">\n",
       "      <th></th>\n",
       "      <th>REF_DATE</th>\n",
       "      <th>GEO</th>\n",
       "      <th>DGUID</th>\n",
       "      <th>Class of electricity producer</th>\n",
       "      <th>Type of electricity generation</th>\n",
       "      <th>UOM</th>\n",
       "      <th>VALUE</th>\n",
       "    </tr>\n",
       "  </thead>\n",
       "  <tbody>\n",
       "    <tr>\n",
       "      <th>0</th>\n",
       "      <td>2008-01</td>\n",
       "      <td>Canada</td>\n",
       "      <td>2016A000011124</td>\n",
       "      <td>Total all classes of electricity producer</td>\n",
       "      <td>Total all types of electricity generation</td>\n",
       "      <td>Megawatt hours</td>\n",
       "      <td>59082501.0</td>\n",
       "    </tr>\n",
       "    <tr>\n",
       "      <th>1</th>\n",
       "      <td>2008-01</td>\n",
       "      <td>Canada</td>\n",
       "      <td>2016A000011124</td>\n",
       "      <td>Total all classes of electricity producer</td>\n",
       "      <td>Hydraulic turbine</td>\n",
       "      <td>Megawatt hours</td>\n",
       "      <td>36647695.0</td>\n",
       "    </tr>\n",
       "    <tr>\n",
       "      <th>2</th>\n",
       "      <td>2008-01</td>\n",
       "      <td>Canada</td>\n",
       "      <td>2016A000011124</td>\n",
       "      <td>Total all classes of electricity producer</td>\n",
       "      <td>Conventional steam turbine</td>\n",
       "      <td>Megawatt hours</td>\n",
       "      <td>11021441.0</td>\n",
       "    </tr>\n",
       "    <tr>\n",
       "      <th>3</th>\n",
       "      <td>2008-01</td>\n",
       "      <td>Canada</td>\n",
       "      <td>2016A000011124</td>\n",
       "      <td>Total all classes of electricity producer</td>\n",
       "      <td>Nuclear steam turbine</td>\n",
       "      <td>Megawatt hours</td>\n",
       "      <td>8963878.0</td>\n",
       "    </tr>\n",
       "    <tr>\n",
       "      <th>4</th>\n",
       "      <td>2008-01</td>\n",
       "      <td>Canada</td>\n",
       "      <td>2016A000011124</td>\n",
       "      <td>Total all classes of electricity producer</td>\n",
       "      <td>Internal combustion turbine</td>\n",
       "      <td>Megawatt hours</td>\n",
       "      <td>105643.0</td>\n",
       "    </tr>\n",
       "  </tbody>\n",
       "</table>\n",
       "</div>"
      ],
      "text/plain": [
       "  REF_DATE     GEO           DGUID              Class of electricity producer  \\\n",
       "0  2008-01  Canada  2016A000011124  Total all classes of electricity producer   \n",
       "1  2008-01  Canada  2016A000011124  Total all classes of electricity producer   \n",
       "2  2008-01  Canada  2016A000011124  Total all classes of electricity producer   \n",
       "3  2008-01  Canada  2016A000011124  Total all classes of electricity producer   \n",
       "4  2008-01  Canada  2016A000011124  Total all classes of electricity producer   \n",
       "\n",
       "              Type of electricity generation             UOM       VALUE  \n",
       "0  Total all types of electricity generation  Megawatt hours  59082501.0  \n",
       "1                          Hydraulic turbine  Megawatt hours  36647695.0  \n",
       "2                 Conventional steam turbine  Megawatt hours  11021441.0  \n",
       "3                      Nuclear steam turbine  Megawatt hours   8963878.0  \n",
       "4                Internal combustion turbine  Megawatt hours    105643.0  "
      ]
     },
     "execution_count": 18,
     "metadata": {},
     "output_type": "execute_result"
    }
   ],
   "source": [
    "import pandas as pd\n",
    "\n",
    "data_source = 'data/25100015-eng/25100015.csv'\n",
    "energy_data = pd.read_csv(data_source, low_memory=False)\n",
    "\n",
    "\n",
    "drop_columns = ['UOM_ID', 'SCALAR_FACTOR', 'SCALAR_ID', 'VECTOR', 'COORDINATE', 'STATUS', 'SYMBOL', 'TERMINATED', 'DECIMALS']\n",
    "dropped_energy_data = energy_data.drop(drop_columns, axis=1)\n",
    "\n",
    "dropped_energy_data.head()"
   ]
  },
  {
   "cell_type": "code",
   "execution_count": null,
   "metadata": {},
   "outputs": [],
   "source": []
  }
 ],
 "metadata": {
  "kernelspec": {
   "display_name": "Python 3",
   "language": "python",
   "name": "python3"
  },
  "language_info": {
   "codemirror_mode": {
    "name": "ipython",
    "version": 3
   },
   "file_extension": ".py",
   "mimetype": "text/x-python",
   "name": "python",
   "nbconvert_exporter": "python",
   "pygments_lexer": "ipython3",
   "version": "3.6.8"
  }
 },
 "nbformat": 4,
 "nbformat_minor": 2
}
